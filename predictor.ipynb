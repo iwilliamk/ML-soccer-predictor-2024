{
 "cells": [
  {
   "cell_type": "code",
   "execution_count": 1,
   "id": "ed669544",
   "metadata": {},
   "outputs": [],
   "source": [
    "# 📦 Step 1: Import Libraries\n",
    "import pandas as pd\n",
    "from sklearn.model_selection import train_test_split\n",
    "from sklearn.ensemble import RandomForestClassifier\n",
    "from sklearn.metrics import classification_report, confusion_matrix"
   ]
  },
  {
   "cell_type": "code",
   "execution_count": 2,
   "id": "8bf9ff09",
   "metadata": {},
   "outputs": [],
   "source": [
    "import pandas as pd\n",
    "\n",
    "# Load and sort chronologically\n",
    "df = pd.read_csv(\"23-24Season.csv\")\n",
    "df['Date'] = pd.to_datetime(df['Date'], dayfirst=True)\n",
    "df = df.sort_values('Date')\n",
    "\n",
    "# Keep only what we need\n",
    "df = df[['Date', 'HomeTeam', 'AwayTeam', 'FTR', 'B365H', 'B365D', 'B365A']].dropna()\n",
    "df['Target'] = df['FTR'].apply(lambda x: 1 if x == 'H' else 0)\n"
   ]
  },
  {
   "cell_type": "code",
   "execution_count": 3,
   "id": "6f2cbd59",
   "metadata": {},
   "outputs": [],
   "source": [
    "# Initialize form dictionaries\n",
    "team_history = {}\n",
    "home_form = []\n",
    "away_form = []\n",
    "\n",
    "def get_win_rate(matches, n=5):\n",
    "    if not matches:\n",
    "        return 0.5  # neutral default\n",
    "    return sum(matches[-n:]) / min(n, len(matches))\n",
    "\n",
    "# Loop through each match\n",
    "for _, row in df.iterrows():\n",
    "    home, away = row['HomeTeam'], row['AwayTeam']\n",
    "\n",
    "    # Get past performance\n",
    "    home_wins = team_history.get(home, [])\n",
    "    away_wins = team_history.get(away, [])\n",
    "\n",
    "    home_form.append(get_win_rate(home_wins))\n",
    "    away_form.append(get_win_rate(away_wins))\n",
    "\n",
    "    # Update history after match\n",
    "    if row['FTR'] == 'H':\n",
    "        team_history.setdefault(home, []).append(1)\n",
    "        team_history.setdefault(away, []).append(0)\n",
    "    elif row['FTR'] == 'A':\n",
    "        team_history.setdefault(home, []).append(0)\n",
    "        team_history.setdefault(away, []).append(1)\n",
    "    else:\n",
    "        team_history.setdefault(home, []).append(0)\n",
    "        team_history.setdefault(away, []).append(0)\n",
    "\n",
    "# Add to dataframe\n",
    "df['HomeForm'] = home_form\n",
    "df['AwayForm'] = away_form\n"
   ]
  },
  {
   "cell_type": "code",
   "execution_count": 5,
   "id": "8822ade4",
   "metadata": {},
   "outputs": [
    {
     "name": "stdout",
     "output_type": "stream",
     "text": [
      "🔍 Classification Report:\n",
      "              precision    recall  f1-score   support\n",
      "\n",
      "           0       0.69      0.72      0.70        43\n",
      "           1       0.61      0.58      0.59        33\n",
      "\n",
      "    accuracy                           0.66        76\n",
      "   macro avg       0.65      0.65      0.65        76\n",
      "weighted avg       0.66      0.66      0.66        76\n",
      "\n",
      "🧮 Confusion Matrix:\n",
      "[[31 12]\n",
      " [14 19]]\n"
     ]
    }
   ],
   "source": [
    "# Encode teams\n",
    "df = pd.get_dummies(df, columns=['HomeTeam', 'AwayTeam'], drop_first=True)\n",
    "\n",
    "# Drop unused\n",
    "df = df.drop(columns=['FTR', 'Date'])\n",
    "\n",
    "# Define features\n",
    "X = df.drop(columns=['Target'])\n",
    "y = df['Target']\n",
    "\n",
    "# Time-based split\n",
    "from sklearn.model_selection import train_test_split\n",
    "X_train, X_test, y_train, y_test = train_test_split(X, y, test_size=0.2, shuffle=False)\n",
    "\n",
    "# Train model\n",
    "from sklearn.ensemble import RandomForestClassifier\n",
    "model = RandomForestClassifier(n_estimators=100, random_state=42)\n",
    "model.fit(X_train, y_train)\n",
    "\n",
    "# Evaluate\n",
    "from sklearn.metrics import classification_report, confusion_matrix\n",
    "y_pred = model.predict(X_test)\n",
    "print(\"🔍 Classification Report:\")\n",
    "print(classification_report(y_test, y_pred))\n",
    "print(\"🧮 Confusion Matrix:\")\n",
    "print(confusion_matrix(y_test, y_pred))\n"
   ]
  }
 ],
 "metadata": {
  "kernelspec": {
   "display_name": "Python 3",
   "language": "python",
   "name": "python3"
  },
  "language_info": {
   "codemirror_mode": {
    "name": "ipython",
    "version": 3
   },
   "file_extension": ".py",
   "mimetype": "text/x-python",
   "name": "python",
   "nbconvert_exporter": "python",
   "pygments_lexer": "ipython3",
   "version": "3.12.4"
  }
 },
 "nbformat": 4,
 "nbformat_minor": 5
}
